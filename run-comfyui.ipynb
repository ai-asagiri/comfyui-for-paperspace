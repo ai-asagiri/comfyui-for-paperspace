{
 "cells": [
  {
   "cell_type": "code",
   "execution_count": null,
   "metadata": {},
   "outputs": [],
   "source": [
    "import os\n",
    "from subprocess import call\n",
    "# ComfyUIを起動\n",
    "\n",
    "def sd():\n",
    "   \n",
    "    localurl=\"https://tensorboard-\"+os.environ.get('PAPERSPACE_FQDN')\n",
    "    call(\"sed -i 's@^            if verbose:@@' /notebooks/ComfyUI/server.py\", shell=True)\n",
    "    call(\"sed -i 's@^                logging.info(\\\"To see the GUI go to: {}://{}:{}\\\".format(scheme, address_print, port))@        logging.info(\\\"\u001b[32m\\u2714 Connected\\\");logging.info(\\\"\u001b[1;34m\"+localurl+\"\u001b[0m\\\")@' /notebooks/ComfyUI/server.py\", shell=True)\n",
    "    os.chdir('/notebooks')\n",
    "\n",
    "\n",
    "#--------------------\n",
    "\n",
    "Args=\"--listen --port 6006 --preview-method auto\"\n",
    "sd()\n",
    "!python3 /notebooks/ComfyUI/main.py $Args"
   ]
  }
 ],
 "metadata": {
  "language_info": {
   "name": "python"
  }
 },
 "nbformat": 4,
 "nbformat_minor": 2
}
